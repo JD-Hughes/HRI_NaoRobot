{
 "cells": [
  {
   "cell_type": "code",
   "execution_count": 3,
   "id": "0639ba17-7914-4410-b4d0-f0f5e425d3cd",
   "metadata": {
    "collapsed": true,
    "jupyter": {
     "outputs_hidden": true
    },
    "scrolled": true
   },
   "outputs": [
    {
     "name": "stdout",
     "output_type": "stream",
     "text": [
      "Requirement already satisfied: mediapipe in c:\\users\\matth\\appdata\\local\\programs\\python\\python311\\lib\\site-packages (0.10.18)\n",
      "Requirement already satisfied: opencv-python in c:\\users\\matth\\appdata\\local\\programs\\python\\python311\\lib\\site-packages (4.10.0.84)\n",
      "Requirement already satisfied: absl-py in c:\\users\\matth\\appdata\\local\\programs\\python\\python311\\lib\\site-packages (from mediapipe) (2.1.0)\n",
      "Requirement already satisfied: attrs>=19.1.0 in c:\\users\\matth\\appdata\\local\\programs\\python\\python311\\lib\\site-packages (from mediapipe) (24.2.0)\n",
      "Requirement already satisfied: flatbuffers>=2.0 in c:\\users\\matth\\appdata\\local\\programs\\python\\python311\\lib\\site-packages (from mediapipe) (24.3.25)\n",
      "Requirement already satisfied: jax in c:\\users\\matth\\appdata\\local\\programs\\python\\python311\\lib\\site-packages (from mediapipe) (0.4.35)\n",
      "Requirement already satisfied: jaxlib in c:\\users\\matth\\appdata\\local\\programs\\python\\python311\\lib\\site-packages (from mediapipe) (0.4.35)\n",
      "Requirement already satisfied: matplotlib in c:\\users\\matth\\appdata\\local\\programs\\python\\python311\\lib\\site-packages (from mediapipe) (3.9.3)\n",
      "Requirement already satisfied: numpy<2 in c:\\users\\matth\\appdata\\local\\programs\\python\\python311\\lib\\site-packages (from mediapipe) (1.26.4)\n",
      "Requirement already satisfied: opencv-contrib-python in c:\\users\\matth\\appdata\\local\\programs\\python\\python311\\lib\\site-packages (from mediapipe) (4.10.0.84)\n",
      "Requirement already satisfied: protobuf<5,>=4.25.3 in c:\\users\\matth\\appdata\\local\\programs\\python\\python311\\lib\\site-packages (from mediapipe) (4.25.5)\n",
      "Requirement already satisfied: sounddevice>=0.4.4 in c:\\users\\matth\\appdata\\local\\programs\\python\\python311\\lib\\site-packages (from mediapipe) (0.5.1)\n",
      "Requirement already satisfied: sentencepiece in c:\\users\\matth\\appdata\\local\\programs\\python\\python311\\lib\\site-packages (from mediapipe) (0.2.0)\n",
      "Requirement already satisfied: CFFI>=1.0 in c:\\users\\matth\\appdata\\local\\programs\\python\\python311\\lib\\site-packages (from sounddevice>=0.4.4->mediapipe) (1.17.1)\n",
      "Requirement already satisfied: ml-dtypes>=0.4.0 in c:\\users\\matth\\appdata\\local\\programs\\python\\python311\\lib\\site-packages (from jax->mediapipe) (0.5.0)\n",
      "Requirement already satisfied: opt-einsum in c:\\users\\matth\\appdata\\local\\programs\\python\\python311\\lib\\site-packages (from jax->mediapipe) (3.4.0)\n",
      "Requirement already satisfied: scipy>=1.10 in c:\\users\\matth\\appdata\\local\\programs\\python\\python311\\lib\\site-packages (from jax->mediapipe) (1.14.1)\n",
      "Requirement already satisfied: contourpy>=1.0.1 in c:\\users\\matth\\appdata\\local\\programs\\python\\python311\\lib\\site-packages (from matplotlib->mediapipe) (1.3.1)\n",
      "Requirement already satisfied: cycler>=0.10 in c:\\users\\matth\\appdata\\local\\programs\\python\\python311\\lib\\site-packages (from matplotlib->mediapipe) (0.12.1)\n",
      "Requirement already satisfied: fonttools>=4.22.0 in c:\\users\\matth\\appdata\\local\\programs\\python\\python311\\lib\\site-packages (from matplotlib->mediapipe) (4.55.1)\n",
      "Requirement already satisfied: kiwisolver>=1.3.1 in c:\\users\\matth\\appdata\\local\\programs\\python\\python311\\lib\\site-packages (from matplotlib->mediapipe) (1.4.7)\n",
      "Requirement already satisfied: packaging>=20.0 in c:\\users\\matth\\appdata\\local\\programs\\python\\python311\\lib\\site-packages (from matplotlib->mediapipe) (24.2)\n",
      "Requirement already satisfied: pillow>=8 in c:\\users\\matth\\appdata\\local\\programs\\python\\python311\\lib\\site-packages (from matplotlib->mediapipe) (11.0.0)\n",
      "Requirement already satisfied: pyparsing>=2.3.1 in c:\\users\\matth\\appdata\\local\\programs\\python\\python311\\lib\\site-packages (from matplotlib->mediapipe) (3.2.0)\n",
      "Requirement already satisfied: python-dateutil>=2.7 in c:\\users\\matth\\appdata\\local\\programs\\python\\python311\\lib\\site-packages (from matplotlib->mediapipe) (2.9.0.post0)\n",
      "Requirement already satisfied: pycparser in c:\\users\\matth\\appdata\\local\\programs\\python\\python311\\lib\\site-packages (from CFFI>=1.0->sounddevice>=0.4.4->mediapipe) (2.22)\n",
      "Requirement already satisfied: six>=1.5 in c:\\users\\matth\\appdata\\local\\programs\\python\\python311\\lib\\site-packages (from python-dateutil>=2.7->matplotlib->mediapipe) (1.16.0)\n"
     ]
    }
   ],
   "source": [
    "!pip install mediapipe opencv-python"
   ]
  },
  {
   "cell_type": "code",
   "execution_count": 1,
   "id": "e39f3d85-7369-40dc-a54d-8e12349f7e96",
   "metadata": {},
   "outputs": [],
   "source": [
    "import cv2\n",
    "import mediapipe as mp\n",
    "import numpy as np\n",
    "mp_drawing = mp.solutions.drawing_utils\n",
    "mp_pose = mp.solutions.pose\n"
   ]
  },
  {
   "cell_type": "code",
   "execution_count": 2,
   "id": "0e29d3f7-c4b7-406a-98f9-9b9d3fbfee7b",
   "metadata": {},
   "outputs": [],
   "source": [
    "def calculate_angle(a,b,c):\n",
    "    a = np.array(a) # First\n",
    "    b = np.array(b) # Mid\n",
    "    c = np.array(c) # End\n",
    "    \n",
    "    radians = np.arctan2(c[1]-b[1], c[0]-b[0]) - np.arctan2(a[1]-b[1], a[0]-b[0])\n",
    "    angle = np.abs(radians*180.0/np.pi)\n",
    "    return angle"
   ]
  },
  {
   "cell_type": "code",
   "execution_count": 3,
   "id": "a0ed12fe-32bb-4e62-8803-3e0fafff2320",
   "metadata": {},
   "outputs": [],
   "source": [
    "JointColours = [100,100,255,100,255,100]\n",
    "\n",
    "RightShoulderCorrect = 0\n",
    "RightElbowCorrect = 0\n",
    "LeftElbowCorrect = 0\n",
    "LeftShoulderCorrect = 0"
   ]
  },
  {
   "cell_type": "code",
   "execution_count": 4,
   "id": "f77da649-b21c-4807-9b94-6fa61a8a99a1",
   "metadata": {},
   "outputs": [],
   "source": [
    "def Pose1(ElbowLAngle, ShoulderLAngle, ElbowRAngle, ShoulderRAngle):\n",
    "    global LeftElbowCorrect, LeftShoulderCorrect, RightShoulderCorrect, RightElbowCorrect\n",
    "\n",
    "    LeftElbowCorrect = 3 if 150 < ElbowLAngle < 190 else 0\n",
    "    LeftShoulderCorrect = 3 if 110 < ShoulderLAngle < 150 else 0\n",
    "    RightElbowCorrect = 3 if 150 < ElbowRAngle < 190 else 0\n",
    "    RightShoulderCorrect = 3 if 110 < ShoulderRAngle <150 else 0"
   ]
  },
  {
   "cell_type": "code",
   "execution_count": 5,
   "id": "99ab9810-cbde-4deb-9c43-3fc75e714e5a",
   "metadata": {},
   "outputs": [],
   "source": [
    "def Pose2(ElbowLAngle, ShoulderLAngle, ElbowRAngle, ShoulderRAngle):\n",
    "    global LeftElbowCorrect, LeftShoulderCorrect, RightShoulderCorrect, RightElbowCorrect\n",
    "\n",
    "    LeftElbowCorrect = 3 if 20 < ElbowLAngle < 50 else 0\n",
    "    LeftShoulderCorrect = 3 if 90 < ShoulderLAngle < 110 else 0\n",
    "    RightElbowCorrect = 3 if 20 < ElbowRAngle < 50 else 0\n",
    "    RightShoulderCorrect = 3 if 90 < ShoulderRAngle <110 else 0"
   ]
  },
  {
   "cell_type": "code",
   "execution_count": 22,
   "id": "0898c628-377b-4459-990f-d56b46d1da8c",
   "metadata": {},
   "outputs": [],
   "source": [
    "def Pose3(ElbowLAngle, ShoulderLAngle, ElbowRAngle, ShoulderRAngle):\n",
    "    global LeftElbowCorrect, LeftShoulderCorrect, RightShoulderCorrect, RightElbowCorrect\n",
    "\n",
    "    LeftElbowCorrect = 3 if 20 < ElbowLAngle < 50 else 0\n",
    "    LeftShoulderCorrect = 3 if 90 < ShoulderLAngle < 110 else 0\n",
    "    RightElbowCorrect = 3 if 20 < ElbowRAngle < 50 else 0\n",
    "    RightShoulderCorrect = 3 if 90 < ShoulderRAngle <110 else 0"
   ]
  },
  {
   "cell_type": "code",
   "execution_count": null,
   "id": "1b71c0fb-2ff6-4a44-9579-b5ae6703406b",
   "metadata": {},
   "outputs": [],
   "source": []
  },
  {
   "cell_type": "code",
   "execution_count": 6,
   "id": "56b25790-d8f4-4b0c-9eb8-c8c0691fa961",
   "metadata": {},
   "outputs": [],
   "source": [
    "PoseChoice = 1"
   ]
  },
  {
   "cell_type": "code",
   "execution_count": 7,
   "id": "58c8a24e-63ca-451e-b16b-5cb14a9edd6f",
   "metadata": {},
   "outputs": [],
   "source": [
    "cap = cv2.VideoCapture(0)\n",
    "## Setup mediapipe instance\n",
    "with mp_pose.Pose(min_detection_confidence=0.5, min_tracking_confidence=0.5) as pose:\n",
    "    while cap.isOpened():\n",
    "        ret, frame = cap.read()\n",
    "        \n",
    "        # Recolor image to RGB\n",
    "        image = cv2.cvtColor(frame, cv2.COLOR_BGR2RGB)\n",
    "        image.flags.writeable = False\n",
    "      \n",
    "        # Make detection\n",
    "        results = pose.process(image)\n",
    "    \n",
    "        # Recolor back to BGR\n",
    "        image.flags.writeable = True\n",
    "        image = cv2.cvtColor(image, cv2.COLOR_RGB2BGR)\n",
    "        \n",
    "        # Extract landmarks\n",
    "        try:\n",
    "            landmarks = results.pose_landmarks.landmark\n",
    "            \n",
    "            # Get coordinates\n",
    "            shoulderL = [landmarks[mp_pose.PoseLandmark.LEFT_SHOULDER.value].x,landmarks[mp_pose.PoseLandmark.LEFT_SHOULDER.value].y]\n",
    "            elbowL = [landmarks[mp_pose.PoseLandmark.LEFT_ELBOW.value].x,landmarks[mp_pose.PoseLandmark.LEFT_ELBOW.value].y]\n",
    "            wristL = [landmarks[mp_pose.PoseLandmark.LEFT_WRIST.value].x,landmarks[mp_pose.PoseLandmark.LEFT_WRIST.value].y]\n",
    "            \n",
    "            shoulderR = [landmarks[mp_pose.PoseLandmark.RIGHT_SHOULDER.value].x,landmarks[mp_pose.PoseLandmark.RIGHT_SHOULDER.value].y]\n",
    "            elbowR = [landmarks[mp_pose.PoseLandmark.RIGHT_ELBOW.value].x,landmarks[mp_pose.PoseLandmark.RIGHT_ELBOW.value].y]\n",
    "            wristR = [landmarks[mp_pose.PoseLandmark.RIGHT_WRIST.value].x,landmarks[mp_pose.PoseLandmark.RIGHT_WRIST.value].y]\n",
    "            Face = [landmarks[mp_pose.PoseLandmark.NOSE.value].x,landmarks[mp_pose.PoseLandmark.NOSE.value].y]  \n",
    "            # Calculate angle\n",
    "            ElbowLAngle = calculate_angle(shoulderL, elbowL, wristL)\n",
    "            \n",
    "            ElbowRAngle = calculate_angle(shoulderR, elbowR, wristR)\n",
    "\n",
    "            ShoulderRAngle = calculate_angle(shoulderL, shoulderR, elbowR)\n",
    "            \n",
    "            ShoulderLAngle = calculate_angle(shoulderR, shoulderL, elbowL)\n",
    "            \n",
    "\n",
    "            \n",
    "            #Convert angle into integer\n",
    "            ElbowLAngle = int(ElbowLAngle)\n",
    "            ElbowRAngle = int(ElbowRAngle)\n",
    "            ShoulderRAngle = int(ShoulderRAngle)\n",
    "            ShoulderLAngle = int(ShoulderLAngle)\n",
    "\n",
    "\n",
    "            match PoseChoice:\n",
    "                case 1:\n",
    "                    Pose1(ElbowLAngle, ShoulderLAngle, ElbowRAngle, ShoulderRAngle)\n",
    "                case 2:\n",
    "                    Pose2(ElbowLAngle, ShoulderLAngle, ElbowRAngle, ShoulderRAngle)\n",
    "\n",
    "            \n",
    "            \n",
    "            \n",
    "            # Visualize angle\n",
    "            cv2.putText(image, str(ElbowLAngle), \n",
    "                           tuple(np.multiply(elbowL, [640, 480]).astype(int)), \n",
    "                           cv2.FONT_HERSHEY_SIMPLEX, 0.5, (JointColours[LeftElbowCorrect], JointColours[LeftElbowCorrect+1], JointColours[LeftElbowCorrect+2]), 2, cv2.LINE_AA\n",
    "                                )\n",
    "\n",
    "            cv2.putText(image, str(ElbowRAngle), \n",
    "                           tuple(np.multiply(elbowR, [640, 480]).astype(int)), \n",
    "                           cv2.FONT_HERSHEY_SIMPLEX, 0.5, (JointColours[RightElbowCorrect], JointColours[RightElbowCorrect+1],JointColours[RightElbowCorrect+2]), 2, cv2.LINE_AA\n",
    "                                )\n",
    "\n",
    "            cv2.putText(image, str(ShoulderRAngle), \n",
    "                           tuple(np.multiply(shoulderR, [640, 480]).astype(int)), \n",
    "                           cv2.FONT_HERSHEY_SIMPLEX, 0.5, (JointColours[RightShoulderCorrect], JointColours[RightShoulderCorrect+1], JointColours[RightShoulderCorrect+2]), 2, cv2.LINE_AA\n",
    "                                )\n",
    "\n",
    "            cv2.putText(image, str(ShoulderLAngle), \n",
    "                           tuple(np.multiply(shoulderL, [640, 480]).astype(int)),\n",
    "                           cv2.FONT_HERSHEY_SIMPLEX, 0.5, (JointColours[LeftShoulderCorrect], JointColours[LeftShoulderCorrect+1], JointColours[LeftShoulderCorrect+2]), 2, cv2.LINE_AA\n",
    "                                )\n",
    "                       \n",
    "        except:\n",
    "            pass\n",
    "        \n",
    "        \n",
    "        # Render detections\n",
    "        mp_drawing.draw_landmarks(image, results.pose_landmarks, mp_pose.POSE_CONNECTIONS,\n",
    "                                mp_drawing.DrawingSpec(color=(245,117,66), thickness=2, circle_radius=2), \n",
    "                                mp_drawing.DrawingSpec(color=(245,66,230), thickness=2, circle_radius=2) \n",
    "                                 )               \n",
    "        \n",
    "        cv2.imshow('Mediapipe Feed', image)\n",
    "        \n",
    "        if cv2.waitKey(10) & 0xFF == ord('q'):\n",
    "            break\n",
    "    \n",
    "    cap.release()\n",
    "    cv2.destroyAllWindows()"
   ]
  },
  {
   "cell_type": "code",
   "execution_count": null,
   "id": "c82a87e7-898d-4b63-baa6-067a4bbe806c",
   "metadata": {},
   "outputs": [],
   "source": []
  }
 ],
 "metadata": {
  "kernelspec": {
   "display_name": "Python 3 (ipykernel)",
   "language": "python",
   "name": "python3"
  },
  "language_info": {
   "codemirror_mode": {
    "name": "ipython",
    "version": 3
   },
   "file_extension": ".py",
   "mimetype": "text/x-python",
   "name": "python",
   "nbconvert_exporter": "python",
   "pygments_lexer": "ipython3",
   "version": "3.11.0"
  }
 },
 "nbformat": 4,
 "nbformat_minor": 5
}
